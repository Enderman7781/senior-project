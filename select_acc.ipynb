{
 "cells": [
  {
   "cell_type": "code",
   "execution_count": 3,
   "metadata": {},
   "outputs": [
    {
     "name": "stdout",
     "output_type": "stream",
     "text": [
      "篩選結果已保存至 D:\\Desktop\\Code\\專題\\combined_filtered_data.csv\n"
     ]
    },
    {
     "name": "stderr",
     "output_type": "stream",
     "text": [
      "C:\\Users\\asdf6\\AppData\\Local\\Temp\\ipykernel_32080\\3529292581.py:7: DtypeWarning: Columns (37) have mixed types. Specify dtype option on import or set low_memory=False.\n",
      "  df = pd.read_csv(file_path)\n"
     ]
    }
   ],
   "source": [
    "import pandas as pd\n",
    "import os\n",
    "\n",
    "# 讀取和篩選CSV文件\n",
    "def filter_csv(file_path, route_keyword):\n",
    "    # 讀取CSV文件\n",
    "    df = pd.read_csv(file_path)\n",
    "    # 篩選符合條件的資料，假設路線的欄位名稱為 'LinkID' 或其他名稱（根據你的實際情況調整）\n",
    "    filtered_df = df[df['路線'].str.contains(route_keyword, na=False)]\n",
    "    return filtered_df\n",
    "\n",
    "# 合併所有篩選結果並寫入一個新的CSV文件\n",
    "def combine_filtered_csv(csv_files, output_file, route_keyword):\n",
    "    combined_df = pd.DataFrame()\n",
    "    for csv_file in csv_files:\n",
    "        filtered_df = filter_csv(csv_file, route_keyword)\n",
    "        combined_df = pd.concat([combined_df, filtered_df], ignore_index=True)\n",
    "    \n",
    "    # 將合併結果寫入新的CSV文件\n",
    "    combined_df.to_csv(output_file, index=False)\n",
    "\n",
    "# CSV文件的路徑列表\n",
    "csv_files = [\n",
    "    'D:\\\\Desktop\\\\Code\\\\專題\\\\A1.csv',\n",
    "    'D:\\\\Desktop\\\\Code\\\\專題\\\\A2.csv',\n",
    "    'D:\\\\Desktop\\\\Code\\\\專題\\\\A3.csv'\n",
    "]\n",
    "\n",
    "# 輸出CSV文件的路徑\n",
    "output_file = 'D:\\\\Desktop\\\\Code\\\\專題\\\\combined_filtered_data.csv'\n",
    "\n",
    "# 關鍵字 \"國道五號\"\n",
    "route_keyword = '國道5號'\n",
    "\n",
    "# 執行篩選和合併\n",
    "combine_filtered_csv(csv_files, output_file, route_keyword)\n",
    "\n",
    "print(f\"篩選結果已保存至 {output_file}\")\n"
   ]
  },
  {
   "cell_type": "code",
   "execution_count": 8,
   "metadata": {},
   "outputs": [
    {
     "name": "stdout",
     "output_type": "stream",
     "text": [
      "處理結果已保存至 D:\\Desktop\\Code\\processed_data.csv\n"
     ]
    }
   ],
   "source": [
    "# 門架的資訊，這裡假設門架有多對起點和終點的公里數對\n",
    "gantry_points = {\n",
    "    ('03F0150N', '05F0001N', '北側'): (0, 0.1),\n",
    "    ('03F0201S', '05F0001N', '北側'): (0, 0.1),\n",
    "    ('05F0001N', '05F0055N', '北側'): (0.1, 5.5),\n",
    "    ('05F0055N', '05F0287N', '北側'): (5.5, 28.7),\n",
    "    ('05F0287N', '05F0309N', '北側'): (28.7, 30.9),\n",
    "    ('05F0309N', '05F0438N', '北側'): (30.9, 43.8),\n",
    "    ('05F0438N', '05F0528N', '北側'): (43.8, 52.8),\n",
    "    ('05FR143N', '05F0438N', '北側'): (37.5, 43.8),\n",
    "    \n",
    "    ('03F0158S', '05F0000S','南側'): (0, 0),\n",
    "    ('03F0201N', '05F0000S','南側'): (0, 0),\n",
    "    ('05F0000S', '05F0055S','南側'): (0, 5.5),\n",
    "    ('05F0055S', '05F0287S','南側'): (5.5, 28.7),\n",
    "    ('05F0287S', '05F0309S','南側'): (28.7, 30.9),\n",
    "    ('05F0309S', '05F0439S','南側'): (30.9, 43.9),\n",
    "    ('05FR113S', '05F0439S','南側'): (37.5, 43.9),\n",
    "    ('05F0439S', '05F0494S','南側'): (43.9, 49.4),\n",
    "    # 添加更多的門架信息\n",
    "}\n",
    "\n",
    "# 檢查公里數在哪一對門架之間\n",
    "def find_gantry(km_value, gantry_points, dir_way):\n",
    "    for (start_gantry, end_gantry, direction_gantry), (start_km, end_km) in gantry_points.items():\n",
    "        if start_km <= km_value < end_km and direction_gantry == dir_way:\n",
    "            if dir_way == '南側':\n",
    "                return start_gantry, end_gantry\n",
    "            else:\n",
    "                return end_gantry, start_gantry\n",
    "    return None, None\n",
    "\n",
    "# 讀取合併後的CSV文件\n",
    "combined_csv_path = 'D:\\\\Desktop\\\\Code\\\\專題\\\\combined_filtered_data.csv'\n",
    "df = pd.read_csv(combined_csv_path)\n",
    "\n",
    "# 假設 \"公里\" 和 \"公尺\" 的欄位名稱為 'KM' 和 'Meter'，根據你的情況調整\n",
    "df['公里'] = df['公里'] + (df['公尺'] / 1000)\n",
    "\n",
    "# 檢查“公里”值在哪兩個門架之間，並創建新欄位“Gantry_Range”\n",
    "df['起點門架'], df['終點門架'] = zip(*df.apply(lambda row: find_gantry(row['公里'], gantry_points, row['向']), axis=1))\n",
    "\n",
    "# 刪除原來的“公里”和“公尺”欄位，只保留新的“公里”欄位\n",
    "df.drop(columns=['公里','公尺'], inplace=True)\n",
    "\n",
    "# 將處理後的數據保存到新的CSV文件\n",
    "output_file_path = 'D:\\\\Desktop\\\\Code\\\\processed_data.csv'\n",
    "df.to_csv(output_file_path, index=False)\n",
    "\n",
    "print(f\"處理結果已保存至 {output_file_path}\")\n"
   ]
  }
 ],
 "metadata": {
  "kernelspec": {
   "display_name": "ggpu",
   "language": "python",
   "name": "python3"
  },
  "language_info": {
   "codemirror_mode": {
    "name": "ipython",
    "version": 3
   },
   "file_extension": ".py",
   "mimetype": "text/x-python",
   "name": "python",
   "nbconvert_exporter": "python",
   "pygments_lexer": "ipython3",
   "version": "3.9.12"
  }
 },
 "nbformat": 4,
 "nbformat_minor": 2
}
