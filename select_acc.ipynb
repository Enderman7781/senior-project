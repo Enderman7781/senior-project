{
 "cells": [
  {
   "cell_type": "code",
   "execution_count": 3,
   "metadata": {},
   "outputs": [
    {
     "name": "stdout",
     "output_type": "stream",
     "text": [
      "篩選結果已保存至 D:\\Desktop\\Code\\專題\\combined_filtered_data.csv\n"
     ]
    },
    {
     "name": "stderr",
     "output_type": "stream",
     "text": [
      "C:\\Users\\asdf6\\AppData\\Local\\Temp\\ipykernel_32080\\3529292581.py:7: DtypeWarning: Columns (37) have mixed types. Specify dtype option on import or set low_memory=False.\n",
      "  df = pd.read_csv(file_path)\n"
     ]
    }
   ],
   "source": [
    "import pandas as pd\n",
    "import os\n",
    "\n",
    "# 讀取和篩選CSV文件\n",
    "def filter_csv(file_path, route_keyword):\n",
    "    # 讀取CSV文件\n",
    "    df = pd.read_csv(file_path)\n",
    "    # 篩選符合條件的資料，假設路線的欄位名稱為 'LinkID' 或其他名稱（根據你的實際情況調整）\n",
    "    filtered_df = df[df['路線'].str.contains(route_keyword, na=False)]\n",
    "    return filtered_df\n",
    "\n",
    "# 合併所有篩選結果並寫入一個新的CSV文件\n",
    "def combine_filtered_csv(csv_files, output_file, route_keyword):\n",
    "    combined_df = pd.DataFrame()\n",
    "    for csv_file in csv_files:\n",
    "        filtered_df = filter_csv(csv_file, route_keyword)\n",
    "        combined_df = pd.concat([combined_df, filtered_df], ignore_index=True)\n",
    "    \n",
    "    # 將合併結果寫入新的CSV文件\n",
    "    combined_df.to_csv(output_file, index=False)\n",
    "\n",
    "# CSV文件的路徑列表\n",
    "csv_files = [\n",
    "    'D:\\\\Desktop\\\\Code\\\\專題\\\\A1.csv',\n",
    "    'D:\\\\Desktop\\\\Code\\\\專題\\\\A2.csv',\n",
    "    'D:\\\\Desktop\\\\Code\\\\專題\\\\A3.csv'\n",
    "]\n",
    "\n",
    "# 輸出CSV文件的路徑\n",
    "output_file = 'D:\\\\Desktop\\\\Code\\\\專題\\\\combined_filtered_data.csv'\n",
    "\n",
    "# 關鍵字 \"國道五號\"\n",
    "route_keyword = '國道5號'\n",
    "\n",
    "# 執行篩選和合併\n",
    "combine_filtered_csv(csv_files, output_file, route_keyword)\n",
    "\n",
    "print(f\"篩選結果已保存至 {output_file}\")\n"
   ]
  },
  {
   "cell_type": "code",
   "execution_count": 6,
   "metadata": {},
   "outputs": [
    {
     "ename": "TypeError",
     "evalue": "find_gantry() missing 1 required positional argument: 'dir_way'",
     "output_type": "error",
     "traceback": [
      "\u001b[1;31m---------------------------------------------------------------------------\u001b[0m",
      "\u001b[1;31mTypeError\u001b[0m                                 Traceback (most recent call last)",
      "Cell \u001b[1;32mIn[6], line 41\u001b[0m\n\u001b[0;32m     38\u001b[0m df[\u001b[38;5;124m'\u001b[39m\u001b[38;5;124m公里\u001b[39m\u001b[38;5;124m'\u001b[39m] \u001b[38;5;241m=\u001b[39m df[\u001b[38;5;124m'\u001b[39m\u001b[38;5;124m公里\u001b[39m\u001b[38;5;124m'\u001b[39m] \u001b[38;5;241m+\u001b[39m (df[\u001b[38;5;124m'\u001b[39m\u001b[38;5;124m公尺\u001b[39m\u001b[38;5;124m'\u001b[39m] \u001b[38;5;241m/\u001b[39m \u001b[38;5;241m1000\u001b[39m)\n\u001b[0;32m     40\u001b[0m \u001b[38;5;66;03m# 檢查“公里”值在哪兩個門架之間，並創建新欄位“Gantry_Range”\u001b[39;00m\n\u001b[1;32m---> 41\u001b[0m df[\u001b[38;5;124m'\u001b[39m\u001b[38;5;124m起點門架\u001b[39m\u001b[38;5;124m'\u001b[39m], df[\u001b[38;5;124m'\u001b[39m\u001b[38;5;124m終點門架\u001b[39m\u001b[38;5;124m'\u001b[39m] \u001b[38;5;241m=\u001b[39m \u001b[38;5;28mzip\u001b[39m(\u001b[38;5;241m*\u001b[39m\u001b[43mdf\u001b[49m\u001b[43m[\u001b[49m\u001b[38;5;124;43m'\u001b[39;49m\u001b[38;5;124;43m公里\u001b[39;49m\u001b[38;5;124;43m'\u001b[39;49m\u001b[43m]\u001b[49m\u001b[38;5;241;43m.\u001b[39;49m\u001b[43mapply\u001b[49m\u001b[43m(\u001b[49m\u001b[38;5;28;43;01mlambda\u001b[39;49;00m\u001b[43m \u001b[49m\u001b[43mkm\u001b[49m\u001b[43m:\u001b[49m\u001b[43m \u001b[49m\u001b[43mfind_gantry\u001b[49m\u001b[43m(\u001b[49m\u001b[43mkm\u001b[49m\u001b[43m,\u001b[49m\u001b[43m \u001b[49m\u001b[43mgantry_points\u001b[49m\u001b[43m)\u001b[49m\u001b[43m)\u001b[49m)\n\u001b[0;32m     43\u001b[0m \u001b[38;5;66;03m# 刪除原來的“公里”和“公尺”欄位，只保留新的“公里”欄位\u001b[39;00m\n\u001b[0;32m     44\u001b[0m df\u001b[38;5;241m.\u001b[39mdrop(columns\u001b[38;5;241m=\u001b[39m[\u001b[38;5;124m'\u001b[39m\u001b[38;5;124m公里\u001b[39m\u001b[38;5;124m'\u001b[39m,\u001b[38;5;124m'\u001b[39m\u001b[38;5;124m公尺\u001b[39m\u001b[38;5;124m'\u001b[39m], inplace\u001b[38;5;241m=\u001b[39m\u001b[38;5;28;01mTrue\u001b[39;00m)\n",
      "File \u001b[1;32mc:\\Users\\asdf6\\anaconda3\\envs\\ggpu\\lib\\site-packages\\pandas\\core\\series.py:4753\u001b[0m, in \u001b[0;36mSeries.apply\u001b[1;34m(self, func, convert_dtype, args, by_row, **kwargs)\u001b[0m\n\u001b[0;32m   4625\u001b[0m \u001b[38;5;28;01mdef\u001b[39;00m \u001b[38;5;21mapply\u001b[39m(\n\u001b[0;32m   4626\u001b[0m     \u001b[38;5;28mself\u001b[39m,\n\u001b[0;32m   4627\u001b[0m     func: AggFuncType,\n\u001b[1;32m   (...)\u001b[0m\n\u001b[0;32m   4632\u001b[0m     \u001b[38;5;241m*\u001b[39m\u001b[38;5;241m*\u001b[39mkwargs,\n\u001b[0;32m   4633\u001b[0m ) \u001b[38;5;241m-\u001b[39m\u001b[38;5;241m>\u001b[39m DataFrame \u001b[38;5;241m|\u001b[39m Series:\n\u001b[0;32m   4634\u001b[0m \u001b[38;5;250m    \u001b[39m\u001b[38;5;124;03m\"\"\"\u001b[39;00m\n\u001b[0;32m   4635\u001b[0m \u001b[38;5;124;03m    Invoke function on values of Series.\u001b[39;00m\n\u001b[0;32m   4636\u001b[0m \n\u001b[1;32m   (...)\u001b[0m\n\u001b[0;32m   4751\u001b[0m \u001b[38;5;124;03m    dtype: float64\u001b[39;00m\n\u001b[0;32m   4752\u001b[0m \u001b[38;5;124;03m    \"\"\"\u001b[39;00m\n\u001b[1;32m-> 4753\u001b[0m     \u001b[38;5;28;01mreturn\u001b[39;00m \u001b[43mSeriesApply\u001b[49m\u001b[43m(\u001b[49m\n\u001b[0;32m   4754\u001b[0m \u001b[43m        \u001b[49m\u001b[38;5;28;43mself\u001b[39;49m\u001b[43m,\u001b[49m\n\u001b[0;32m   4755\u001b[0m \u001b[43m        \u001b[49m\u001b[43mfunc\u001b[49m\u001b[43m,\u001b[49m\n\u001b[0;32m   4756\u001b[0m \u001b[43m        \u001b[49m\u001b[43mconvert_dtype\u001b[49m\u001b[38;5;241;43m=\u001b[39;49m\u001b[43mconvert_dtype\u001b[49m\u001b[43m,\u001b[49m\n\u001b[0;32m   4757\u001b[0m \u001b[43m        \u001b[49m\u001b[43mby_row\u001b[49m\u001b[38;5;241;43m=\u001b[39;49m\u001b[43mby_row\u001b[49m\u001b[43m,\u001b[49m\n\u001b[0;32m   4758\u001b[0m \u001b[43m        \u001b[49m\u001b[43margs\u001b[49m\u001b[38;5;241;43m=\u001b[39;49m\u001b[43margs\u001b[49m\u001b[43m,\u001b[49m\n\u001b[0;32m   4759\u001b[0m \u001b[43m        \u001b[49m\u001b[43mkwargs\u001b[49m\u001b[38;5;241;43m=\u001b[39;49m\u001b[43mkwargs\u001b[49m\u001b[43m,\u001b[49m\n\u001b[0;32m   4760\u001b[0m \u001b[43m    \u001b[49m\u001b[43m)\u001b[49m\u001b[38;5;241;43m.\u001b[39;49m\u001b[43mapply\u001b[49m\u001b[43m(\u001b[49m\u001b[43m)\u001b[49m\n",
      "File \u001b[1;32mc:\\Users\\asdf6\\anaconda3\\envs\\ggpu\\lib\\site-packages\\pandas\\core\\apply.py:1207\u001b[0m, in \u001b[0;36mSeriesApply.apply\u001b[1;34m(self)\u001b[0m\n\u001b[0;32m   1204\u001b[0m     \u001b[38;5;28;01mreturn\u001b[39;00m \u001b[38;5;28mself\u001b[39m\u001b[38;5;241m.\u001b[39mapply_compat()\n\u001b[0;32m   1206\u001b[0m \u001b[38;5;66;03m# self.func is Callable\u001b[39;00m\n\u001b[1;32m-> 1207\u001b[0m \u001b[38;5;28;01mreturn\u001b[39;00m \u001b[38;5;28;43mself\u001b[39;49m\u001b[38;5;241;43m.\u001b[39;49m\u001b[43mapply_standard\u001b[49m\u001b[43m(\u001b[49m\u001b[43m)\u001b[49m\n",
      "File \u001b[1;32mc:\\Users\\asdf6\\anaconda3\\envs\\ggpu\\lib\\site-packages\\pandas\\core\\apply.py:1287\u001b[0m, in \u001b[0;36mSeriesApply.apply_standard\u001b[1;34m(self)\u001b[0m\n\u001b[0;32m   1281\u001b[0m \u001b[38;5;66;03m# row-wise access\u001b[39;00m\n\u001b[0;32m   1282\u001b[0m \u001b[38;5;66;03m# apply doesn't have a `na_action` keyword and for backward compat reasons\u001b[39;00m\n\u001b[0;32m   1283\u001b[0m \u001b[38;5;66;03m# we need to give `na_action=\"ignore\"` for categorical data.\u001b[39;00m\n\u001b[0;32m   1284\u001b[0m \u001b[38;5;66;03m# TODO: remove the `na_action=\"ignore\"` when that default has been changed in\u001b[39;00m\n\u001b[0;32m   1285\u001b[0m \u001b[38;5;66;03m#  Categorical (GH51645).\u001b[39;00m\n\u001b[0;32m   1286\u001b[0m action \u001b[38;5;241m=\u001b[39m \u001b[38;5;124m\"\u001b[39m\u001b[38;5;124mignore\u001b[39m\u001b[38;5;124m\"\u001b[39m \u001b[38;5;28;01mif\u001b[39;00m \u001b[38;5;28misinstance\u001b[39m(obj\u001b[38;5;241m.\u001b[39mdtype, CategoricalDtype) \u001b[38;5;28;01melse\u001b[39;00m \u001b[38;5;28;01mNone\u001b[39;00m\n\u001b[1;32m-> 1287\u001b[0m mapped \u001b[38;5;241m=\u001b[39m \u001b[43mobj\u001b[49m\u001b[38;5;241;43m.\u001b[39;49m\u001b[43m_map_values\u001b[49m\u001b[43m(\u001b[49m\n\u001b[0;32m   1288\u001b[0m \u001b[43m    \u001b[49m\u001b[43mmapper\u001b[49m\u001b[38;5;241;43m=\u001b[39;49m\u001b[43mcurried\u001b[49m\u001b[43m,\u001b[49m\u001b[43m \u001b[49m\u001b[43mna_action\u001b[49m\u001b[38;5;241;43m=\u001b[39;49m\u001b[43maction\u001b[49m\u001b[43m,\u001b[49m\u001b[43m \u001b[49m\u001b[43mconvert\u001b[49m\u001b[38;5;241;43m=\u001b[39;49m\u001b[38;5;28;43mself\u001b[39;49m\u001b[38;5;241;43m.\u001b[39;49m\u001b[43mconvert_dtype\u001b[49m\n\u001b[0;32m   1289\u001b[0m \u001b[43m\u001b[49m\u001b[43m)\u001b[49m\n\u001b[0;32m   1291\u001b[0m \u001b[38;5;28;01mif\u001b[39;00m \u001b[38;5;28mlen\u001b[39m(mapped) \u001b[38;5;129;01mand\u001b[39;00m \u001b[38;5;28misinstance\u001b[39m(mapped[\u001b[38;5;241m0\u001b[39m], ABCSeries):\n\u001b[0;32m   1292\u001b[0m     \u001b[38;5;66;03m# GH#43986 Need to do list(mapped) in order to get treated as nested\u001b[39;00m\n\u001b[0;32m   1293\u001b[0m     \u001b[38;5;66;03m#  See also GH#25959 regarding EA support\u001b[39;00m\n\u001b[0;32m   1294\u001b[0m     \u001b[38;5;28;01mreturn\u001b[39;00m obj\u001b[38;5;241m.\u001b[39m_constructor_expanddim(\u001b[38;5;28mlist\u001b[39m(mapped), index\u001b[38;5;241m=\u001b[39mobj\u001b[38;5;241m.\u001b[39mindex)\n",
      "File \u001b[1;32mc:\\Users\\asdf6\\anaconda3\\envs\\ggpu\\lib\\site-packages\\pandas\\core\\base.py:921\u001b[0m, in \u001b[0;36mIndexOpsMixin._map_values\u001b[1;34m(self, mapper, na_action, convert)\u001b[0m\n\u001b[0;32m    918\u001b[0m \u001b[38;5;28;01mif\u001b[39;00m \u001b[38;5;28misinstance\u001b[39m(arr, ExtensionArray):\n\u001b[0;32m    919\u001b[0m     \u001b[38;5;28;01mreturn\u001b[39;00m arr\u001b[38;5;241m.\u001b[39mmap(mapper, na_action\u001b[38;5;241m=\u001b[39mna_action)\n\u001b[1;32m--> 921\u001b[0m \u001b[38;5;28;01mreturn\u001b[39;00m \u001b[43malgorithms\u001b[49m\u001b[38;5;241;43m.\u001b[39;49m\u001b[43mmap_array\u001b[49m\u001b[43m(\u001b[49m\u001b[43marr\u001b[49m\u001b[43m,\u001b[49m\u001b[43m \u001b[49m\u001b[43mmapper\u001b[49m\u001b[43m,\u001b[49m\u001b[43m \u001b[49m\u001b[43mna_action\u001b[49m\u001b[38;5;241;43m=\u001b[39;49m\u001b[43mna_action\u001b[49m\u001b[43m,\u001b[49m\u001b[43m \u001b[49m\u001b[43mconvert\u001b[49m\u001b[38;5;241;43m=\u001b[39;49m\u001b[43mconvert\u001b[49m\u001b[43m)\u001b[49m\n",
      "File \u001b[1;32mc:\\Users\\asdf6\\anaconda3\\envs\\ggpu\\lib\\site-packages\\pandas\\core\\algorithms.py:1814\u001b[0m, in \u001b[0;36mmap_array\u001b[1;34m(arr, mapper, na_action, convert)\u001b[0m\n\u001b[0;32m   1812\u001b[0m values \u001b[38;5;241m=\u001b[39m arr\u001b[38;5;241m.\u001b[39mastype(\u001b[38;5;28mobject\u001b[39m, copy\u001b[38;5;241m=\u001b[39m\u001b[38;5;28;01mFalse\u001b[39;00m)\n\u001b[0;32m   1813\u001b[0m \u001b[38;5;28;01mif\u001b[39;00m na_action \u001b[38;5;129;01mis\u001b[39;00m \u001b[38;5;28;01mNone\u001b[39;00m:\n\u001b[1;32m-> 1814\u001b[0m     \u001b[38;5;28;01mreturn\u001b[39;00m \u001b[43mlib\u001b[49m\u001b[38;5;241;43m.\u001b[39;49m\u001b[43mmap_infer\u001b[49m\u001b[43m(\u001b[49m\u001b[43mvalues\u001b[49m\u001b[43m,\u001b[49m\u001b[43m \u001b[49m\u001b[43mmapper\u001b[49m\u001b[43m,\u001b[49m\u001b[43m \u001b[49m\u001b[43mconvert\u001b[49m\u001b[38;5;241;43m=\u001b[39;49m\u001b[43mconvert\u001b[49m\u001b[43m)\u001b[49m\n\u001b[0;32m   1815\u001b[0m \u001b[38;5;28;01melse\u001b[39;00m:\n\u001b[0;32m   1816\u001b[0m     \u001b[38;5;28;01mreturn\u001b[39;00m lib\u001b[38;5;241m.\u001b[39mmap_infer_mask(\n\u001b[0;32m   1817\u001b[0m         values, mapper, mask\u001b[38;5;241m=\u001b[39misna(values)\u001b[38;5;241m.\u001b[39mview(np\u001b[38;5;241m.\u001b[39muint8), convert\u001b[38;5;241m=\u001b[39mconvert\n\u001b[0;32m   1818\u001b[0m     )\n",
      "File \u001b[1;32mlib.pyx:2917\u001b[0m, in \u001b[0;36mpandas._libs.lib.map_infer\u001b[1;34m()\u001b[0m\n",
      "Cell \u001b[1;32mIn[6], line 41\u001b[0m, in \u001b[0;36m<lambda>\u001b[1;34m(km)\u001b[0m\n\u001b[0;32m     38\u001b[0m df[\u001b[38;5;124m'\u001b[39m\u001b[38;5;124m公里\u001b[39m\u001b[38;5;124m'\u001b[39m] \u001b[38;5;241m=\u001b[39m df[\u001b[38;5;124m'\u001b[39m\u001b[38;5;124m公里\u001b[39m\u001b[38;5;124m'\u001b[39m] \u001b[38;5;241m+\u001b[39m (df[\u001b[38;5;124m'\u001b[39m\u001b[38;5;124m公尺\u001b[39m\u001b[38;5;124m'\u001b[39m] \u001b[38;5;241m/\u001b[39m \u001b[38;5;241m1000\u001b[39m)\n\u001b[0;32m     40\u001b[0m \u001b[38;5;66;03m# 檢查“公里”值在哪兩個門架之間，並創建新欄位“Gantry_Range”\u001b[39;00m\n\u001b[1;32m---> 41\u001b[0m df[\u001b[38;5;124m'\u001b[39m\u001b[38;5;124m起點門架\u001b[39m\u001b[38;5;124m'\u001b[39m], df[\u001b[38;5;124m'\u001b[39m\u001b[38;5;124m終點門架\u001b[39m\u001b[38;5;124m'\u001b[39m] \u001b[38;5;241m=\u001b[39m \u001b[38;5;28mzip\u001b[39m(\u001b[38;5;241m*\u001b[39mdf[\u001b[38;5;124m'\u001b[39m\u001b[38;5;124m公里\u001b[39m\u001b[38;5;124m'\u001b[39m]\u001b[38;5;241m.\u001b[39mapply(\u001b[38;5;28;01mlambda\u001b[39;00m km: \u001b[43mfind_gantry\u001b[49m\u001b[43m(\u001b[49m\u001b[43mkm\u001b[49m\u001b[43m,\u001b[49m\u001b[43m \u001b[49m\u001b[43mgantry_points\u001b[49m\u001b[43m)\u001b[49m))\n\u001b[0;32m     43\u001b[0m \u001b[38;5;66;03m# 刪除原來的“公里”和“公尺”欄位，只保留新的“公里”欄位\u001b[39;00m\n\u001b[0;32m     44\u001b[0m df\u001b[38;5;241m.\u001b[39mdrop(columns\u001b[38;5;241m=\u001b[39m[\u001b[38;5;124m'\u001b[39m\u001b[38;5;124m公里\u001b[39m\u001b[38;5;124m'\u001b[39m,\u001b[38;5;124m'\u001b[39m\u001b[38;5;124m公尺\u001b[39m\u001b[38;5;124m'\u001b[39m], inplace\u001b[38;5;241m=\u001b[39m\u001b[38;5;28;01mTrue\u001b[39;00m)\n",
      "\u001b[1;31mTypeError\u001b[0m: find_gantry() missing 1 required positional argument: 'dir_way'"
     ]
    }
   ],
   "source": [
    "# 門架的資訊，這裡假設門架有多對起點和終點的公里數對\n",
    "gantry_points = {\n",
    "    ('03F0150N', '05F0001N', '北側'): (0, 0.1),\n",
    "    ('03F0201S', '05F0001N', '北側'): (0, 0.1),\n",
    "    ('05F0001N', '05F0055N', '北側'): (0.1, 5.5),\n",
    "    ('05F0055N', '05F0287N', '北側'): (5.5, 28.7),\n",
    "    ('05F0287N', '05F0309N', '北側'): (28.7, 30.9),\n",
    "    ('05F0309N', '05F0438N', '北側'): (30.9, 43.8),\n",
    "    ('05F0438N', '05F0528N', '北側'): (43.8, 52.8),\n",
    "    ('05FR143N', '05F0438N', '北側'): (37.5, 43.8),\n",
    "    \n",
    "    ('03F0158S', '05F0000S','南側'): (0, 0),\n",
    "    ('03F0201N', '05F0000S','南側'): (0, 0),\n",
    "    ('05F0000S', '05F0055S','南側'): (0, 5.5),\n",
    "    ('05F0055S', '05F0287S','南側'): (5.5, 28.7),\n",
    "    ('05F0287S', '05F0309S','南側'): (28.7, 30.9),\n",
    "    ('05F0309S', '05F0439S','南側'): (30.9, 43.9),\n",
    "    ('05FR113S', '05F0439S','南側'): (37.5, 43.9),\n",
    "    ('05F0439S', '05F0494S','南側'): (43.9, 49.4),\n",
    "    # 添加更多的門架信息\n",
    "}\n",
    "\n",
    "# 檢查公里數在哪一對門架之間\n",
    "def find_gantry(km_value, gantry_points, dir_way):\n",
    "    for (start_gantry, end_gantry, direction_gantry), (start_km, end_km) in gantry_points.items():\n",
    "        if start_km <= km_value < end_km and direction_gantry == dir_way:\n",
    "            if dir_way == '南側':\n",
    "                return start_gantry, end_gantry\n",
    "            else:\n",
    "                return end_gantry, start_gantry\n",
    "    return None, None\n",
    "\n",
    "# 讀取合併後的CSV文件\n",
    "combined_csv_path = 'D:\\\\Desktop\\\\Code\\\\專題\\\\combined_filtered_data.csv'\n",
    "df = pd.read_csv(combined_csv_path)\n",
    "\n",
    "# 假設 \"公里\" 和 \"公尺\" 的欄位名稱為 'KM' 和 'Meter'，根據你的情況調整\n",
    "df['公里'] = df['公里'] + (df['公尺'] / 1000)\n",
    "\n",
    "# 檢查“公里”值在哪兩個門架之間，並創建新欄位“Gantry_Range”\n",
    "df['起點門架'], df['終點門架'] = zip(*df.apply(lambda row: find_gantry(row['公里'], gantry_points, row['方向']), axis=1))\n",
    "\n",
    "# 刪除原來的“公里”和“公尺”欄位，只保留新的“公里”欄位\n",
    "df.drop(columns=['公里','公尺'], inplace=True)\n",
    "\n",
    "# 將處理後的數據保存到新的CSV文件\n",
    "output_file_path = 'D:\\\\Desktop\\\\Code\\\\processed_data.csv'\n",
    "df.to_csv(output_file_path, index=False)\n",
    "\n",
    "print(f\"處理結果已保存至 {output_file_path}\")\n"
   ]
  }
 ],
 "metadata": {
  "kernelspec": {
   "display_name": "ggpu",
   "language": "python",
   "name": "python3"
  },
  "language_info": {
   "codemirror_mode": {
    "name": "ipython",
    "version": 3
   },
   "file_extension": ".py",
   "mimetype": "text/x-python",
   "name": "python",
   "nbconvert_exporter": "python",
   "pygments_lexer": "ipython3",
   "version": "3.9.12"
  }
 },
 "nbformat": 4,
 "nbformat_minor": 2
}
